{
 "cells": [
  {
   "cell_type": "markdown",
   "metadata": {},
   "source": [
    "### git-hub 연결하기 "
   ]
  },
  {
   "cell_type": "markdown",
   "metadata": {},
   "source": [
    "#### git-hub upload 하기 "
   ]
  },
  {
   "cell_type": "code",
   "execution_count": null,
   "metadata": {},
   "outputs": [],
   "source": [
    " git- hub\n",
    "\n",
    "#출력하기 echo는 >>과 짝꿍!!\n",
    " echo \"#first repository\" >> README.md\n",
    "\n",
    " #순서는 add >commit > push\n",
    " git add 파일명(exE_1)\n",
    "# git add . (모든파일올리기)   \n",
    " git commit -m\"message explain\"\n",
    " git push origin master(origin=branch master)"
   ]
  },
  {
   "cell_type": "code",
   "execution_count": null,
   "metadata": {},
   "outputs": [],
   "source": [
    "git-hub 나머지\n",
    "# git -hub 상태표시 \n",
    "git status \n",
    "cat 파일명 #파일의 세부내용을 보여주라는 이야기 "
   ]
  },
  {
   "cell_type": "code",
   "execution_count": 9,
   "metadata": {},
   "outputs": [],
   "source": [
    "git - hub 변경사항 발생시 \n",
    "# 현재 로컬과 jupyter notebook과 연결된 상태이니 수정사항 발생시 한쪽에서만 변경해야함 그렇지 않으면 폴더 삭제\n",
    "# clone 으로 현재사항 복사 후 juypter notebook 실행\n",
    "# jupyter notebook을 폴더 해당 폴더 안에서 실행 시 진행사항 변경 없음 \n"
   ]
  },
  {
   "cell_type": "code",
   "execution_count": null,
   "metadata": {},
   "outputs": [],
   "source": [
    "# dropbox와 jupyter notebook 연동하기 \n",
    "git_hub 연결하기 \n",
    "for 문과 "
   ]
  },
  {
   "cell_type": "code",
   "execution_count": null,
   "metadata": {},
   "outputs": [],
   "source": []
  },
  {
   "cell_type": "code",
   "execution_count": null,
   "metadata": {},
   "outputs": [],
   "source": []
  }
 ],
 "metadata": {
  "kernelspec": {
   "display_name": "aiffel",
   "language": "python",
   "name": "aiffel"
  },
  "language_info": {
   "codemirror_mode": {
    "name": "ipython",
    "version": 3
   },
   "file_extension": ".py",
   "mimetype": "text/x-python",
   "name": "python",
   "nbconvert_exporter": "python",
   "pygments_lexer": "ipython3",
   "version": "3.7.7"
  }
 },
 "nbformat": 4,
 "nbformat_minor": 4
}
