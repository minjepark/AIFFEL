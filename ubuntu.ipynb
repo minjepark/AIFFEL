{
 "cells": [
  {
   "cell_type": "markdown",
   "metadata": {},
   "source": []
  },
  {
   "cell_type": "markdown",
   "metadata": {},
   "source": [
    "## 리눅스 운영체제 18.04버전 "
   ]
  },
  {
   "cell_type": "code",
   "execution_count": null,
   "metadata": {},
   "outputs": [],
   "source": [
    "까만화면CUI: ctrl+alt+f3 \n",
    "돌아오기GUI: ctrl+alt+f2"
   ]
  },
  {
   "cell_type": "markdown",
   "metadata": {},
   "source": [
    "aiffel042@aiffel042-GE75-Raider-10SF:~$\n",
    "현재 로그인한 사용자명@컴퓨터의 이름, 호스트명 : 현재위치 ~최고관리자계정(root)#으로 표시 ` \n"
   ]
  },
  {
   "cell_type": "code",
   "execution_count": null,
   "metadata": {},
   "outputs": [],
   "source": []
  },
  {
   "cell_type": "markdown",
   "metadata": {},
   "source": [
    "### 운영체제의 구성과 커널의 역할 "
   ]
  },
  {
   "cell_type": "markdown",
   "metadata": {},
   "source": [
    "운영체제: 집사(관리자) 커널ex우분투\n",
    "어플리케이션: 요리사, 정원사, 청소부(보조인원)\n",
    "![어플리케이션과 운영체제 상관관계](https://images.app.goo.gl/a6wbFM8JqAxPF3eG8\"어플리케이션과 운영체제 상관관계\")\n",
    "cpu자원관리:cpu는 스레드(thread)라는 단위로 코어를 하나씩 사용할 수있음 "
   ]
  },
  {
   "cell_type": "markdown",
   "metadata": {},
   "source": [
    "### 터미널 or 터미널 에뮬레이터 or 셀의 차이 "
   ]
  },
  {
   "cell_type": "code",
   "execution_count": null,
   "metadata": {},
   "outputs": [],
   "source": [
    "ctrl+alt+T는 터미널 에뮬레이터 \n",
    "터미널: 컴퓨터에 정보를 입력하고 출력하는 소프트웨어 및 하드웨어 장치 "
   ]
  },
  {
   "cell_type": "markdown",
   "metadata": {},
   "source": [
    "### 기본적인 리눅스 명렁어 "
   ]
  },
  {
   "cell_type": "markdown",
   "metadata": {},
   "source": [
    "echo: 뒤어따로오는 거 출력\n",
    "pwd, /HOME/사용자명: 위치 출력\n",
    "ls :  현재 디렉토리 내의 파일 및 폴더들을 출력 \n",
    "cd : 이동\n",
    "ps : 현재 터미널과 관련된 프로세스 목록 출력 \n",
    "ps -ef: 모든 터미널에서 현재 실행중인 프로세스 목록 및 부가정보 출력\n",
    "prep : 입력으로 전달된 내용에서 특정 문자열을 포함한 라인만 선택 출력 \n",
    "sudo: 최고 관리자 권한으로 실행 \n",
    "which: 명령어의 전체 경로 출력     "
   ]
  },
  {
   "cell_type": "code",
   "execution_count": null,
   "metadata": {},
   "outputs": [],
   "source": [
    "명령어 \n",
    "-h help\n",
    "-t 최근문서  \n",
    "-r 정렬순서를 뒤집어 출력 \n",
    "-rt 최신파일 아래쪽표시 \n",
    "-alrt drwxr-xr-x  7 aiffel042 aiffel042  4096  7월 29 21:11  다운로드  문서수정일보여주기\n",
    "-man ls 매뉴얼 보여주기 "
   ]
  },
  {
   "cell_type": "code",
   "execution_count": null,
   "metadata": {},
   "outputs": [],
   "source": []
  }
 ],
 "metadata": {
  "kernelspec": {
   "display_name": "aiffel",
   "language": "python",
   "name": "aiffel"
  },
  "language_info": {
   "codemirror_mode": {
    "name": "ipython",
    "version": 3
   },
   "file_extension": ".py",
   "mimetype": "text/x-python",
   "name": "python",
   "nbconvert_exporter": "python",
   "pygments_lexer": "ipython3",
   "version": "3.7.7"
  }
 },
 "nbformat": 4,
 "nbformat_minor": 4
}
