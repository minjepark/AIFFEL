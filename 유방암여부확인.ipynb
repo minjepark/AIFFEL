{
 "cells": [
  {
   "cell_type": "code",
   "execution_count": 4,
   "metadata": {},
   "outputs": [
    {
     "name": "stdout",
     "output_type": "stream",
     "text": [
      "              precision    recall  f1-score   support\n",
      "\n",
      "           0       0.97      0.88      0.93        42\n",
      "           1       0.93      0.99      0.96        72\n",
      "\n",
      "    accuracy                           0.95       114\n",
      "   macro avg       0.95      0.93      0.94       114\n",
      "weighted avg       0.95      0.95      0.95       114\n",
      "\n"
     ]
    }
   ],
   "source": [
    "# 시작은 필요 모듈을 모두 소환\n",
    "from sklearn.datasets import load_breast_cancer\n",
    "from sklearn.model_selection import train_test_split\n",
    "from sklearn.tree import DecisionTreeClassifier\n",
    "from sklearn.metrics import classification_report\n",
    "\n",
    "\n",
    "breast_cancer=load_breast_cancer()\n",
    "breast_cancer_data=breast_cancer.data\n",
    "breast_cancer_label=breast_cancer.target \n",
    "# 왜 cancer 이라고 변수명을 지정하면 안되는거쥬?\n",
    "\n",
    "#train,test데이터를 분류하고 테스트 사이즈는 20% random_state를 지정하는데 모든 사람들이 동일하게 적용해야하기에 명시\n",
    "X_train,X_test, y_train,y_test = train_test_split(breast_cancer_data,\n",
    "                                                 breast_cancer_label,test_size=0.2,random_state=1)\n",
    "\n",
    "#학습 및 예측\n",
    "decision_tree=DecisionTreeClassifier(random_state=1)\n",
    "decision_tree.fit(X_train,y_train)\n",
    "y_pred = decision_tree.predict(X_test)\n",
    "\n",
    "print(classification_report(y_test,y_pred))"
   ]
  },
  {
   "cell_type": "code",
   "execution_count": 6,
   "metadata": {},
   "outputs": [
    {
     "name": "stdout",
     "output_type": "stream",
     "text": [
      "              precision    recall  f1-score   support\n",
      "\n",
      "           0       0.97      0.90      0.94        42\n",
      "           1       0.95      0.99      0.97        72\n",
      "\n",
      "    accuracy                           0.96       114\n",
      "   macro avg       0.96      0.95      0.95       114\n",
      "weighted avg       0.96      0.96      0.96       114\n",
      "\n"
     ]
    }
   ],
   "source": [
    "# 시작은 필요 모듈을 모두 소환\n",
    "from sklearn.datasets import load_breast_cancer\n",
    "from sklearn.model_selection import train_test_split\n",
    "from sklearn.ensemble import RandomForestClassifier\n",
    "from sklearn.metrics import classification_report\n",
    "\n",
    "\n",
    "breast_cancer=load_breast_cancer()\n",
    "breast_cancer_data=breast_cancer.data\n",
    "breast_cancer_label=breast_cancer.target \n",
    "# 왜 cancer 이라고 변수명을 지정하면 안되는거쥬?\n",
    "\n",
    "#train,test데이터를 분류하고 테스트 사이즈는 20% random_state를 지정하는데 모든 사람들이 동일하게 적용해야하기에 명시\n",
    "X_train,X_test, y_train,y_test = train_test_split(breast_cancer_data,\n",
    "                                                 breast_cancer_label,test_size=0.2,random_state=1)\n",
    "\n",
    "#학습 및 예측\n",
    "RandomForest=RandomForestClassifier(random_state=32)\n",
    "RandomForest.fit(X_train,y_train)\n",
    "y_pred = RandomForest.predict(X_test)\n",
    "\n",
    "print(classification_report(y_test,y_pred))"
   ]
  },
  {
   "cell_type": "code",
   "execution_count": 7,
   "metadata": {},
   "outputs": [
    {
     "name": "stdout",
     "output_type": "stream",
     "text": [
      "              precision    recall  f1-score   support\n",
      "\n",
      "           0       0.72      0.93      0.81        42\n",
      "           1       0.95      0.79      0.86        72\n",
      "\n",
      "    accuracy                           0.84       114\n",
      "   macro avg       0.84      0.86      0.84       114\n",
      "weighted avg       0.87      0.84      0.84       114\n",
      "\n"
     ]
    }
   ],
   "source": [
    "# 시작은 필요 모듈을 모두 소환\n",
    "from sklearn.datasets import load_breast_cancer\n",
    "from sklearn.model_selection import train_test_split\n",
    "from sklearn.linear_model import SGDClassifier\n",
    "from sklearn.metrics import classification_report\n",
    "\n",
    "\n",
    "breast_cancer=load_breast_cancer()\n",
    "breast_cancer_data=breast_cancer.data\n",
    "breast_cancer_label=breast_cancer.target \n",
    "# 왜 cancer 이라고 변수명을 지정하면 안되는거쥬?\n",
    "\n",
    "#train,test데이터를 분류하고 테스트 사이즈는 20% random_state를 지정하는데 모든 사람들이 동일하게 적용해야하기에 명시\n",
    "X_train,X_test, y_train,y_test = train_test_split(breast_cancer_data,\n",
    "                                                 breast_cancer_label,test_size=0.2,random_state=1)\n",
    "\n",
    "#학습 및 예측\n",
    "SGDC=SGDClassifier(random_state=32)\n",
    "SGDC.fit(X_train,y_train)\n",
    "y_pred = SGDC.predict(X_test)\n",
    "\n",
    "print(classification_report(y_test,y_pred))"
   ]
  },
  {
   "cell_type": "code",
   "execution_count": 8,
   "metadata": {},
   "outputs": [
    {
     "name": "stdout",
     "output_type": "stream",
     "text": [
      "              precision    recall  f1-score   support\n",
      "\n",
      "           0       0.95      0.90      0.93        42\n",
      "           1       0.95      0.97      0.96        72\n",
      "\n",
      "    accuracy                           0.95       114\n",
      "   macro avg       0.95      0.94      0.94       114\n",
      "weighted avg       0.95      0.95      0.95       114\n",
      "\n"
     ]
    },
    {
     "name": "stderr",
     "output_type": "stream",
     "text": [
      "/home/aiffel042/anaconda3/envs/aiffel/lib/python3.7/site-packages/sklearn/linear_model/_logistic.py:764: ConvergenceWarning: lbfgs failed to converge (status=1):\n",
      "STOP: TOTAL NO. of ITERATIONS REACHED LIMIT.\n",
      "\n",
      "Increase the number of iterations (max_iter) or scale the data as shown in:\n",
      "    https://scikit-learn.org/stable/modules/preprocessing.html\n",
      "Please also refer to the documentation for alternative solver options:\n",
      "    https://scikit-learn.org/stable/modules/linear_model.html#logistic-regression\n",
      "  extra_warning_msg=_LOGISTIC_SOLVER_CONVERGENCE_MSG)\n"
     ]
    }
   ],
   "source": [
    "# 시작은 필요 모듈을 모두 소환\n",
    "from sklearn.datasets import load_breast_cancer\n",
    "from sklearn.model_selection import train_test_split\n",
    "from sklearn.linear_model import LogisticRegression\n",
    "from sklearn.metrics import classification_report\n",
    "\n",
    "\n",
    "breast_cancer=load_breast_cancer()\n",
    "breast_cancer_data=breast_cancer.data\n",
    "breast_cancer_label=breast_cancer.target \n",
    "# 왜 cancer 이라고 변수명을 지정하면 안되는거쥬?\n",
    "\n",
    "#train,test데이터를 분류하고 테스트 사이즈는 20% random_state를 지정하는데 모든 사람들이 동일하게 적용해야하기에 명시\n",
    "X_train,X_test, y_train,y_test = train_test_split(breast_cancer_data,\n",
    "                                                 breast_cancer_label,test_size=0.2,random_state=1)\n",
    "\n",
    "#학습 및 예측\n",
    "Logistic_model=LogisticRegression(random_state=32)\n",
    "Logistic_model.fit(X_train,y_train)\n",
    "y_pred = Logistic_model.predict(X_test)\n",
    "\n",
    "print(classification_report(y_test,y_pred))"
   ]
  },
  {
   "cell_type": "code",
   "execution_count": null,
   "metadata": {},
   "outputs": [],
   "source": []
  }
 ],
 "metadata": {
  "kernelspec": {
   "display_name": "aiffel",
   "language": "python",
   "name": "aiffel"
  },
  "language_info": {
   "codemirror_mode": {
    "name": "ipython",
    "version": 3
   },
   "file_extension": ".py",
   "mimetype": "text/x-python",
   "name": "python",
   "nbconvert_exporter": "python",
   "pygments_lexer": "ipython3",
   "version": "3.7.7"
  }
 },
 "nbformat": 4,
 "nbformat_minor": 4
}
