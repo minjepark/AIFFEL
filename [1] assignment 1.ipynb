{
 "cells": [
  {
   "cell_type": "markdown",
   "metadata": {},
   "source": [
    "\n",
    "## 첫번째 과제입니다.\n",
    "\n",
    "우리는 파이썬 문법 1 파트에서 숫자형, 문자형, bool형 자료, 변수, 비교연산, 조건문 등에 대해서 배웠습니다.\n",
    "\n",
    "이에 대한 과제를 제공해 드립니다.\n",
    "\n",
    "과제를 하시는 동안 정보검색은 적극 권장됩니다."
   ]
  },
  {
   "cell_type": "markdown",
   "metadata": {},
   "source": [
    "# Q1\n",
    "\n",
    "```python\n",
    "\n",
    "a = 10\n",
    "b = 15\n",
    "```\n",
    "\n",
    "변수 a와 b가 위와 같이 선언되어 있습니다.\n",
    "\n",
    "```python\n",
    "print(a+b)\n",
    "\n",
    "print(\"a+b\")\n",
    "```\n",
    "\n",
    "위 결과를 예상해보고, 출력해봅시다. 또한, 그 이유를 설명하세요."
   ]
  },
  {
   "cell_type": "code",
   "execution_count": 1,
   "metadata": {},
   "outputs": [
    {
     "name": "stdout",
     "output_type": "stream",
     "text": [
      "25\n",
      "a+b\n"
     ]
    }
   ],
   "source": [
    "a = 10\n",
    "b = 15\n",
    "print(a+b)\n",
    "print(\"a+b\")\n",
    "#1번 프린트의 경우 변수로 들어가고 \n",
    "#2번 프린트는 문자형으로 되어있기 때문입니다. \n",
    "\n",
    "## write your code here!!"
   ]
  },
  {
   "cell_type": "markdown",
   "metadata": {},
   "source": [
    "# Q2\n",
    "\n",
    "파이썬에서 ** 은 제곱 계산을 하는 연산자 입니다.\n",
    "\n",
    "** 를 활용해서 3의 5 제곱을 계산해보세요."
   ]
  },
  {
   "cell_type": "code",
   "execution_count": 2,
   "metadata": {},
   "outputs": [
    {
     "name": "stdout",
     "output_type": "stream",
     "text": [
      "243\n"
     ]
    }
   ],
   "source": [
    "# write your code here!!\n",
    "a = 3**5\n",
    "print(a)"
   ]
  },
  {
   "cell_type": "markdown",
   "metadata": {},
   "source": [
    "# Q3\n",
    "\n",
    "다음과 같은 코드가 있습니다.\n",
    "\n",
    "1. 각각 print(a)에서 출력 될 결과를 예상하고, 실행시켜보세요.\n",
    "2. a를 다시 1로 만들어 주세요.\n",
    "\n",
    "```python\n",
    "\n",
    "a = 1\n",
    "\n",
    "print(a)\n",
    "\n",
    "a = a + 1\n",
    "\n",
    "print(a)\n",
    "\n",
    "a += 1\n",
    "\n",
    "print(a)\n",
    "\n",
    "a *= 3\n",
    "\n",
    "print(a)\n",
    "```\n",
    "\n",
    "\n",
    "tip) a += 1은 a = a+1과 같은 의미입니다. 같은 맥락으로 a *= a도 이해할 수 있겠죠?\n"
   ]
  },
  {
   "cell_type": "code",
   "execution_count": 11,
   "metadata": {},
   "outputs": [
    {
     "name": "stdout",
     "output_type": "stream",
     "text": [
      "1\n",
      "3\n",
      "9\n",
      "1\n"
     ]
    }
   ],
   "source": [
    "# write your code here!!\n",
    "a = 1 \n",
    "print(a) # 1이 출력됩니다. \n",
    "a = a + 1 \n",
    "a += 1 # 동일한 출력이 됩니다.  \n",
    "print(a)\n",
    "a *= 3 #3을 곱해줍니다. 출력은 9입니다.\n",
    "print(a)\n",
    "\n",
    "#2번 9인 a를 1로 변경하세요. \n",
    "\n",
    "a = int(a/9) # float형태로 나와서 그냥 int로 변환해보았습니다. \n",
    "print(a)"
   ]
  },
  {
   "cell_type": "markdown",
   "metadata": {},
   "source": [
    "# Q4\n",
    "\n",
    "name 이라는 변수에 자신의 이름을 문자형으로 선언하세요.\n",
    "\n",
    "number 이라는 변수에 자신의 휴대폰 번호 뒷자리를 정수형으로 선언하세요.\n",
    "\n",
    "name과 number를 적절한 형변환을 해서 (name+number)를 출력하세요.\n",
    "\n",
    "tip) 형변환 함수를 사용하세요, int(), str() 등.."
   ]
  },
  {
   "cell_type": "code",
   "execution_count": 13,
   "metadata": {},
   "outputs": [
    {
     "name": "stdout",
     "output_type": "stream",
     "text": [
      "박민제7123\n"
     ]
    }
   ],
   "source": [
    "# write your code here!!\n",
    "name = '박민제' \n",
    "number = 7123\n",
    "\n",
    "print(name + str(number))"
   ]
  },
  {
   "cell_type": "markdown",
   "metadata": {},
   "source": [
    "# Q5\n",
    "\n",
    "john, emma, jack, sue 의 시험 점수는 각각 95점, 89점, 83점, 100점입니다.\n",
    "\n",
    "각 학생의 이름을 변수로해서 시험점수를 정수로 입력하고\n",
    "\n",
    "avg 라는 변수에 네명의 학생의 평균 점수를 대입하세요.\n",
    "\n",
    "avg의 값과 데이터 타입을 출력하세요.\n",
    "\n",
    "hint) 우리가 앞서 배운 사칙연산 문법과 type()함수를 활용"
   ]
  },
  {
   "cell_type": "code",
   "execution_count": 20,
   "metadata": {},
   "outputs": [
    {
     "name": "stdout",
     "output_type": "stream",
     "text": [
      "91.75\n"
     ]
    },
    {
     "data": {
      "text/plain": [
       "float"
      ]
     },
     "execution_count": 20,
     "metadata": {},
     "output_type": "execute_result"
    }
   ],
   "source": [
    "# write your code here!!\n",
    "john = 95\n",
    "emma = 89\n",
    "jack = 83\n",
    "sue = 100\n",
    "avg = (john + emma + jack + sue)/4\n",
    "print(avg)\n",
    "type(avg)"
   ]
  },
  {
   "cell_type": "markdown",
   "metadata": {},
   "source": [
    " # Q6\n",
    "\n",
    "삼성전자의 주가는 55,000원이고,\n",
    "카카오의 주가는 130,000원입니다.\n",
    "\n",
    "로니는 삼성전자 100주와 카카오 60주를 가지고 있다고 합니다.\n",
    "\n",
    "1. 로니가 가지고 있는 주식의 총액은 얼마인가요?\n",
    "\n",
    "2. 한달 뒤 삼성전자의 주가는 30% 상승했고, 카카오의 주가는 10% 하락했습니다. 한달 뒤에 로니가 가지고 있는 주가의 총액은 얼마인가요?"
   ]
  },
  {
   "cell_type": "code",
   "execution_count": 22,
   "metadata": {},
   "outputs": [
    {
     "name": "stdout",
     "output_type": "stream",
     "text": [
      "13300000\n"
     ]
    },
    {
     "data": {
      "text/plain": [
       "14170000.0"
      ]
     },
     "execution_count": 22,
     "metadata": {},
     "output_type": "execute_result"
    }
   ],
   "source": [
    "# write your code here!!\n",
    "삼성전자 = 55000\n",
    "카카오 = 130000\n",
    "\n",
    "#1번 로니의 주식총액\n",
    "로니 = (삼성전자*100) + (카카오*60)\n",
    "print(로니)\n",
    "\n",
    "#2번 한달 후 주식금액\n",
    "\n",
    "after삼전 = 삼성전자 + (삼성전자 * 0.3)\n",
    "after카카오 = 카카오 - (카카오 * 0.1)\n",
    "로니2 = (after삼전 * 100) + (after카카오 * 60)\n",
    "로니2\n"
   ]
  },
  {
   "cell_type": "markdown",
   "metadata": {},
   "source": [
    "# Q7\n",
    "\n",
    "다음의 코드를 입력하고, 활용해서 주어진 결과를 3가지 방법으로 만들어 주세요.\n",
    "\n",
    "```python\n",
    "\n",
    "주머니 = 90\n",
    "지갑 = 120\n",
    "통장 = 140\n",
    "\n",
    "총액 = 주머니 + 지갑 + 통장\n",
    "\n",
    "이름 = \"짱구\"\n",
    "```\n",
    "\n",
    "결과 : \n",
    "\n",
    "짱구는 주머니에 90원, 지갑에 120원, 통장에 140원이 있다.\n",
    "총합 350원이다.\n",
    "\n",
    "\n",
    "아래 3가지 방법을 이용해 같은 결과를 만들어 주세요.\n",
    "\n",
    "1. ',' 로 구분하는 방법\n",
    "2. '+'를 이용하는 방법\n",
    "3. formatting 기법을 이용하는 방법"
   ]
  },
  {
   "cell_type": "code",
   "execution_count": 43,
   "metadata": {},
   "outputs": [
    {
     "name": "stdout",
     "output_type": "stream",
     "text": [
      "\n",
      "짱구는 주머니에 90원, 지갑에 120원, 통장에 140원이 있다. 총합 350원이다.\n",
      "짱구는 주머니에 90원, 지갑에 120원, 통장에 140원이 있다. 총합 350원이다.\n"
     ]
    }
   ],
   "source": [
    "# write your code here!!\n",
    "주머니 = 90\n",
    "지갑 = 120\n",
    "통장 = 140\n",
    "총액 = 주머니 + 지갑 + 통장\n",
    "\n",
    "이름 = \"짱구\"\n",
    "\n",
    "print()\n",
    "print('{}는 주머니에 {}원, 지갑에 {}원, 통장에 {}원이 있다. 총합 {}원이다.'.format(이름, 주머니, 지갑, 통장, 총액))\n",
    "print(f'짱구는 주머니에 {주머니}원, 지갑에 {지갑}원, 통장에 {통장}원이 있다. 총합 {총액}원이다.')"
   ]
  },
  {
   "cell_type": "markdown",
   "metadata": {},
   "source": [
    "# Q8\n",
    "\n",
    "formatting 기법을 활용하기 위함입니다. ??에 들어갈 적절한 변수를 넣어주세요.\n",
    "\n",
    "```python\n",
    "win = 512\n",
    "lose = 256\n",
    "total = win + lose\n",
    "win_ratio = win/total*100\n",
    "```\n",
    "\n",
    "결과:\n",
    "이번 축구 경기에서 512명의 사람이 한국이 승리할 것이라고 했고, 256명의 사람은 한국이 패배할 것이라고 말한다. 승부를 예측한 사람의 총원은 768명이고 승리예측자 비율은 66.6%이다.\n",
    "\n",
    "\n",
    "참고)\n",
    "https://wikidocs.net/13#format"
   ]
  },
  {
   "cell_type": "code",
   "execution_count": 37,
   "metadata": {},
   "outputs": [
    {
     "name": "stdout",
     "output_type": "stream",
     "text": [
      "이번 축구 경기에서 512명의 사람이 한국이 승리할 것이라고 했고,\n",
      "        256명의 사람은 한국이 패배할 것이라고 말한다.\n",
      "        승부를 예측한 사람의 총원은 768명이고 승리예측자 비율은 66.7%이다.\n"
     ]
    }
   ],
   "source": [
    "# write your code here!!\n",
    "win = 512\n",
    "lose = 256\n",
    "total = win + lose\n",
    "win_ratio = win/total*100\n",
    "\n",
    "print(\"\"\"이번 축구 경기에서 {3}명의 사람이 한국이 승리할 것이라고 했고,\n",
    "        {0}명의 사람은 한국이 패배할 것이라고 말한다.\n",
    "        승부를 예측한 사람의 총원은 {1}명이고 승리예측자 비율은 {2:0.1f}%이다.\"\"\"\n",
    "      .format(lose, total, win_ratio,win))"
   ]
  },
  {
   "cell_type": "markdown",
   "metadata": {},
   "source": [
    "# Q9\n",
    "\n",
    "input() 함수를 이용해서 각기 다른 3개의 변수에 숫자를 입력받고, 조건문 if를 사용해서 가장 큰 숫자를 출력하세요. (변수명은 자유롭게)\n",
    "\n",
    "hint) input함수는 문자형 자료로 반환합니다. 적절한 형변환이 필요하겠죠?"
   ]
  },
  {
   "cell_type": "code",
   "execution_count": 49,
   "metadata": {},
   "outputs": [
    {
     "name": "stdout",
     "output_type": "stream",
     "text": [
      "10\n",
      "20\n",
      "58\n",
      "가장 큰 수는 세번째 입력된 값58입니다\n"
     ]
    }
   ],
   "source": [
    "# write your code here!!\n",
    "\n",
    "a = int(input())\n",
    "b = int(input())\n",
    "c = int(input())\n",
    "\n",
    "\n",
    "if a>b and a>c:\n",
    "    print(f'가장 큰 수는 첫번째 입력된 값{a}입니다')\n",
    "elif b>a and b>c:\n",
    "    print(f'가장 큰 수는 두번째 입력된 값{b}입니다')\n",
    "else: \n",
    "    print(f'가장 큰 수는 세번째 입력된 값{c}입니다')\n"
   ]
  },
  {
   "cell_type": "markdown",
   "metadata": {},
   "source": [
    "# Q10\n",
    "\n",
    "input() 함수를 이용해서 숫자를 입력 받고, 그 수가 짝수인지 홀수인지 판별하는 코드를 작성하세요.\n"
   ]
  },
  {
   "cell_type": "code",
   "execution_count": 33,
   "metadata": {},
   "outputs": [
    {
     "name": "stdout",
     "output_type": "stream",
     "text": [
      "4\n",
      "짝수입니다.\n"
     ]
    }
   ],
   "source": [
    "# write your code here!!\n",
    "a = int(input())\n",
    "\n",
    "if a % 2 == 0:\n",
    "    print(\"짝수입니다.\")\n",
    "else:\n",
    "    print(\"홀수입니다.\")"
   ]
  },
  {
   "cell_type": "markdown",
   "metadata": {},
   "source": [
    "# Q11\n",
    "\n",
    "3개의 서로 다른 정수를 각각 다른 변수에 입력 받고, 두번째로 큰 수를 출력하세요."
   ]
  },
  {
   "cell_type": "code",
   "execution_count": 125,
   "metadata": {},
   "outputs": [
    {
     "name": "stdout",
     "output_type": "stream",
     "text": [
      "12\n"
     ]
    },
    {
     "ename": "ValueError",
     "evalue": "not enough values to unpack (expected 3, got 1)",
     "output_type": "error",
     "traceback": [
      "\u001b[0;31m---------------------------------------------------------------------------\u001b[0m",
      "\u001b[0;31mValueError\u001b[0m                                Traceback (most recent call last)",
      "\u001b[0;32m<ipython-input-125-0a7f6b0a3578>\u001b[0m in \u001b[0;36m<module>\u001b[0;34m\u001b[0m\n\u001b[0;32m----> 1\u001b[0;31m \u001b[0mnum1\u001b[0m\u001b[0;34m,\u001b[0m \u001b[0mnum2\u001b[0m\u001b[0;34m,\u001b[0m \u001b[0mnum3\u001b[0m \u001b[0;34m=\u001b[0m \u001b[0mmap\u001b[0m\u001b[0;34m(\u001b[0m\u001b[0mint\u001b[0m\u001b[0;34m,\u001b[0m \u001b[0minput\u001b[0m\u001b[0;34m(\u001b[0m\u001b[0;34m)\u001b[0m\u001b[0;34m.\u001b[0m\u001b[0msplit\u001b[0m\u001b[0;34m(\u001b[0m\u001b[0;34m)\u001b[0m\u001b[0;34m)\u001b[0m\u001b[0;34m\u001b[0m\u001b[0;34m\u001b[0m\u001b[0m\n\u001b[0m\u001b[1;32m      2\u001b[0m \u001b[0;34m\u001b[0m\u001b[0m\n\u001b[1;32m      3\u001b[0m \u001b[0;34m\u001b[0m\u001b[0m\n\u001b[1;32m      4\u001b[0m \u001b[0;32mif\u001b[0m \u001b[0;34m(\u001b[0m\u001b[0mnum1\u001b[0m \u001b[0;34m<\u001b[0m \u001b[0mnum2\u001b[0m\u001b[0;34m)\u001b[0m\u001b[0;34m:\u001b[0m\u001b[0;34m\u001b[0m\u001b[0;34m\u001b[0m\u001b[0m\n\u001b[1;32m      5\u001b[0m     \u001b[0mtmp\u001b[0m \u001b[0;34m=\u001b[0m \u001b[0mnum1\u001b[0m\u001b[0;34m\u001b[0m\u001b[0;34m\u001b[0m\u001b[0m\n",
      "\u001b[0;31mValueError\u001b[0m: not enough values to unpack (expected 3, got 1)"
     ]
    }
   ],
   "source": [
    "num1, num2, num3 = map(int, input().split())\n",
    "\n",
    "\n",
    "if (num1 < num2): \n",
    "    tmp = num1 \n",
    "    num1 = num2 \n",
    "    num2 = tmp \n",
    "if (num2 < num3): \n",
    "    tmp = num2 \n",
    "    num2 = num3 \n",
    "    num3 = tmp \n",
    "if (num1 < num2): \n",
    "    tmp = num1 \n",
    "    num1 = num2 \n",
    "    num2 = tmp \n",
    "    print(num2)\n"
   ]
  },
  {
   "cell_type": "markdown",
   "metadata": {},
   "source": [
    "#### Q12\n",
    "\n",
    "python 시험점수가 100-90점이면 A,\n",
    "\n",
    "89-80점이라면 B,\n",
    "\n",
    "79-60점이라면 C,\n",
    "\n",
    "그 외에는 F라고 합니다.\n",
    "\n",
    "현수의 점수가 88점일 때, 현수의 성적을 조건문을 이용해서 출력해주세요.\n"
   ]
  },
  {
   "cell_type": "code",
   "execution_count": 52,
   "metadata": {},
   "outputs": [
    {
     "name": "stdout",
     "output_type": "stream",
     "text": [
      "88\n",
      "현수의 성적은 B입니다.\n"
     ]
    }
   ],
   "source": [
    "# write your code here!!\n",
    "a = int(input())\n",
    "#현수의 성적뿐만아니라 모두의 성적이 입력될 경우로 변경해 보았습니다. \n",
    "\n",
    "if a >=90:\n",
    "    print('현수의 성적은 A입니다.')\n",
    "elif a >=80:\n",
    "    print('현수의 성적은 B입니다.')\n",
    "elif a>=60:\n",
    "    print('현수의 성적은 C입니다.')\n",
    "else:\n",
    "    print('현수의 성적은 F입니다.')"
   ]
  },
  {
   "cell_type": "markdown",
   "metadata": {},
   "source": [
    "# Q13\n",
    "\n",
    "민주가 학교를 마치고 집에가려고 합니다. 민주가 집을 가는 방법은 총 3가지 입니다. \n",
    "* 택시를 타면 5,600원이 나오고\n",
    "* 버스를 타면 1,250원이 나오고\n",
    "* 걸어가면 중간에 간식을 사먹기 때문에 5,000원을 사용합니다.\n",
    "\n",
    "민주가 수중에 10,000원이 있을 때, 각각의 방법에 대한 잔돈을 구하는 코드를 작성해봅시다."
   ]
  },
  {
   "cell_type": "code",
   "execution_count": 131,
   "metadata": {},
   "outputs": [
    {
     "name": "stdout",
     "output_type": "stream",
     "text": [
      "10000\n",
      "5000\n"
     ]
    },
    {
     "data": {
      "text/plain": [
       "5000"
      ]
     },
     "execution_count": 131,
     "metadata": {},
     "output_type": "execute_result"
    }
   ],
   "source": [
    "# write your code here!!\n",
    "taxi = 5600\n",
    "bus = 1250\n",
    "walking = 5000\n",
    "\n",
    "income = int(input())\n",
    "spend_money = int(input())\n",
    "\n",
    "result = income - spend_money\n",
    "result"
   ]
  },
  {
   "cell_type": "markdown",
   "metadata": {},
   "source": [
    "# String Special\n",
    "\n",
    "문자열을 다루는 능력은 기본입니다.\n",
    "\n",
    "파이썬에선 문자열과 관련된 수많은 함수를 포함하고 있습니다.\n",
    "\n",
    "모든 것을 외울 필요는 없지만, 자주 사용되는 몇개의 함수는 익혀둘 필요가 있습니다.\n",
    "\n",
    "이 파트에서는 적극적으로 검색을 이용하는 것을 권장합니다.\n",
    "\n",
    "프로그래머의 능력 중 하나는 자신이 필요한 정보를 빠르게 찾아내는 것입니다.\n",
    "\n",
    "이 부분에서는 문제를 푸는데 필요한 함수를 직접 찾아보며 풀어봅시다."
   ]
  },
  {
   "cell_type": "markdown",
   "metadata": {},
   "source": [
    "# Q14\n",
    "\n",
    "```python\n",
    "a = \"Hi, my name is Nick\"\n",
    "a[-4:] = \"John\"\n",
    "```\n",
    "\n",
    "위 코드를 실행해보고, 작동되지 않는 이유를 서술해주세요.\n",
    "\n",
    "또한 replace 함수를 활용해서 a를 \"Hi, my name is john\"으로 바꿔봅시다."
   ]
  },
  {
   "cell_type": "code",
   "execution_count": 61,
   "metadata": {},
   "outputs": [
    {
     "data": {
      "text/plain": [
       "'Hi, my name is John'"
      ]
     },
     "execution_count": 61,
     "metadata": {},
     "output_type": "execute_result"
    }
   ],
   "source": [
    "# write your code here!!\n",
    "a = \"Hi, my name is Nick\"\n",
    "#슬라이싱을 -를 끝으로 하는거는 봤는데 시작에 -를 붙이는 건 처음 봅니다. \n",
    "\n",
    "a.replace('Nick','John')"
   ]
  },
  {
   "cell_type": "markdown",
   "metadata": {},
   "source": [
    "# Q15\n",
    "\n",
    "적절한 함수를 사용해서 다음과 같은 문자열을 바꿔주세요.\n",
    "\n",
    "```python\n",
    "\n",
    "한글 = \"가 나 다 라 마 바 사\"\n",
    "```\n",
    "\n",
    "결과 : \"가-나-다-라-마-바-사\""
   ]
  },
  {
   "cell_type": "code",
   "execution_count": 84,
   "metadata": {},
   "outputs": [
    {
     "data": {
      "text/plain": [
       "'가-나-다-라-마-바-사'"
      ]
     },
     "execution_count": 84,
     "metadata": {},
     "output_type": "execute_result"
    }
   ],
   "source": [
    "# write your code here!!\n",
    "한글 = \"가 나 다 라 마 바 사\"\n",
    "# result = 한글[0]+'-'+한글[2]+'-'+한글[4]+'-'+한글[6]+'-'+한글[8]+'-'+한글[10]+'-'+한글[12]\n",
    "# result\n",
    "after = 한글[0] + 한글[2] + 한글[4] + 한글[6] +한글[8] +한글[10] +한글[12]\n",
    "'-'.join(after)"
   ]
  },
  {
   "cell_type": "markdown",
   "metadata": {},
   "source": [
    "# Q16\n",
    "\n",
    "다음과 같은 문자열을 바꿔주세요.\n",
    "\n",
    "```python\n",
    "\n",
    "rev = \"장발장은 거꾸로 말해도 장발장\"\n",
    "```\n",
    "\n",
    "결과 : \"장발장 도해말 로꾸꺼 은장발장\"\n",
    "\n",
    "tip) 슬라이싱의 기본문법 중, 스텝에 집중해봅시다. [시작:끝:스텝]"
   ]
  },
  {
   "cell_type": "code",
   "execution_count": 107,
   "metadata": {},
   "outputs": [
    {
     "name": "stdout",
     "output_type": "stream",
     "text": [
      "['장', '발', '장', ' ', '도', '해', '말', ' ', '로', '꾸', '거', ' ', '은', '장', '발', '장']\n",
      "장발장 도해말 로꾸거 은장발장\n"
     ]
    }
   ],
   "source": [
    "# write your code here!!\n",
    "rev = \"장발장은 거꾸로 말해도 장발장\"\n",
    "len(rev)\n",
    "result = []\n",
    "for i in range(1,17):\n",
    "    result.append(rev[-i])\n",
    "print(result)\n",
    "\n",
    "print(rev[::-1])\n",
    "# print(''.join(reversed(rev)))\n",
    "# tuple(reversed(rev))"
   ]
  },
  {
   "cell_type": "markdown",
   "metadata": {},
   "source": [
    "# Q17\n",
    "\n",
    "문자열에 불필요한 특수문자를 제거한 뒤 출력해봅시다.\n",
    "\n",
    "(strip함수를 이용해봅시다.)\n",
    "\n",
    "```python\n",
    "strip_prac = \"###+++remove please----////\"\n",
    "```\n",
    "\n",
    "결과: \"remove please\""
   ]
  },
  {
   "cell_type": "code",
   "execution_count": 113,
   "metadata": {},
   "outputs": [
    {
     "data": {
      "text/plain": [
       "'removeplease'"
      ]
     },
     "execution_count": 113,
     "metadata": {},
     "output_type": "execute_result"
    }
   ],
   "source": [
    "# write your code here!!\n",
    "import re\n",
    "strip_prac = \"###+++remove please----////\"\n",
    "\n",
    "''.join(e for e in strip_prac if e.isalnum())\n",
    "# strip_prac.strip() 공백지우기는 불가함\n",
    "# pattern = '[^]'\n",
    "# re.sub(pattern=pattern, repl=repl, string=text)"
   ]
  },
  {
   "cell_type": "markdown",
   "metadata": {},
   "source": [
    "# Q18\n",
    "\n",
    "?? 안에 알맞은 문자열 함수를 집어넣어서 완성해주세요.\n",
    "\n",
    "```python\n",
    "\n",
    "a = \"softsquared is the best place for the study\"\n",
    "\n",
    "print(\"공백의 개수는 {}입니다.\".format(??))\n",
    "\n",
    "print(\"t가 등장하는 횟수는 {}회 입니다.\"format(??))\n",
    "```"
   ]
  },
  {
   "cell_type": "code",
   "execution_count": 121,
   "metadata": {},
   "outputs": [
    {
     "name": "stdout",
     "output_type": "stream",
     "text": [
      "공백의 개수는 7입니다.\n",
      "t가 등장하는 횟수는 5회 입니다.\n"
     ]
    }
   ],
   "source": [
    "# write your code here!!\n",
    "a = \"softsquared is the best place for the study\"\n",
    "\n",
    "b = a.count(' ')\n",
    "c = a.count('t')\n",
    "print(\"공백의 개수는 {}입니다.\".format(b))\n",
    "print(\"t가 등장하는 횟수는 {}회 입니다.\".format(c))"
   ]
  },
  {
   "cell_type": "markdown",
   "metadata": {},
   "source": [
    "# Q19\n",
    "\n",
    "민희의 전화번호는 010-4568-1234 입니다. 민희의 전화번호에서 -를 제외하고 숫자만 나눠서 출력해주세요.\n",
    "\n",
    "```python\n",
    "\n",
    "민희 = \"010-4568-1234\"\n",
    "```\n",
    "\n",
    "결과:<br>\n",
    "010<br>\n",
    "4568<br>\n",
    "1234"
   ]
  },
  {
   "cell_type": "code",
   "execution_count": 122,
   "metadata": {},
   "outputs": [
    {
     "data": {
      "text/plain": [
       "'0104568123'"
      ]
     },
     "execution_count": 122,
     "metadata": {},
     "output_type": "execute_result"
    }
   ],
   "source": [
    "# write your code here!!\n",
    "민희 = \"010-4568-1234\"\n",
    "result = 민희[0:3] + 민희[4:8] +민희[9:-1]\n",
    "result"
   ]
  },
  {
   "cell_type": "markdown",
   "metadata": {},
   "source": [
    "# Q20\n",
    "\n",
    "a 문자열의 길이를 구합시다.\n",
    "\n",
    "```python\n",
    "a = \"정말 쉬운 파이썬, 너무 너무 쉬워서 재미있는 파이썬! 얼마나 좋게요~!\"\n",
    "```"
   ]
  },
  {
   "cell_type": "code",
   "execution_count": 24,
   "metadata": {
    "scrolled": true
   },
   "outputs": [
    {
     "data": {
      "text/plain": [
       "40"
      ]
     },
     "execution_count": 24,
     "metadata": {},
     "output_type": "execute_result"
    }
   ],
   "source": [
    "# write your code here!!\n",
    "a = \"정말 쉬운 파이썬, 너무 너무 쉬워서 재미있는 파이썬! 얼마나 좋게요~!\"\n",
    "len(a)"
   ]
  },
  {
   "cell_type": "code",
   "execution_count": null,
   "metadata": {},
   "outputs": [],
   "source": []
  }
 ],
 "metadata": {
  "kernelspec": {
   "display_name": "Python 3",
   "language": "python",
   "name": "python3"
  },
  "language_info": {
   "codemirror_mode": {
    "name": "ipython",
    "version": 3
   },
   "file_extension": ".py",
   "mimetype": "text/x-python",
   "name": "python",
   "nbconvert_exporter": "python",
   "pygments_lexer": "ipython3",
   "version": "3.7.7"
  }
 },
 "nbformat": 4,
 "nbformat_minor": 2
}
